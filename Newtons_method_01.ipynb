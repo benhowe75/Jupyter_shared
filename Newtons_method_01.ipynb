{
 "cells": [
  {
   "cell_type": "markdown",
   "metadata": {},
   "source": [
    "# Bisection Method\n",
    "\n",
    "This program can be used to find the roots of a function using the Bisection Method.\n",
    "The user must define a function and visually inspect the graph for the location of the roots, or zeroes.\n",
    "Then, by entering two x values, one 'above' and one 'below' the suspected root, the program will run through n iterations to find the root within the desired accuracy.\n",
    "For an indepth description of the method, visit: [SOS Math: The Bisection Method](http://www.sosmath.com/calculus/limcon/limcon07/limcon07.html)"
   ]
  },
  {
   "cell_type": "code",
   "execution_count": 1,
   "metadata": {},
   "outputs": [],
   "source": [
    "#We import some prepackaged math and graphing stuff\n",
    "\n",
    "import matplotlib.pyplot as plt\n",
    "from math import *\n",
    "import numpy as np"
   ]
  },
  {
   "cell_type": "markdown",
   "metadata": {},
   "source": [
    "## The function whose roots we want to investigate\n",
    "$$V_{eff}=\\frac{1}{r^{2}}-\\frac{1}{r}=-0.15$$"
   ]
  },
  {
   "cell_type": "code",
   "execution_count": 2,
   "metadata": {},
   "outputs": [],
   "source": [
    "#The function that we will investigate has to be defined\n",
    "def g(x):\n",
    "    y = (1 /( x ** 2)) - (1 / x) + .15\n",
    "    return y"
   ]
  },
  {
   "cell_type": "code",
   "execution_count": 3,
   "metadata": {},
   "outputs": [
    {
     "data": {
      "image/png": "[encoded data removed]",
      "text/plain": [
       "<Figure size 432x288 with 1 Axes>"
      ]
     },
     "metadata": {
      "needs_background": "light"
     },
     "output_type": "display_data"
    }
   ],
   "source": [
    "#Here, we utilize the pyplot package to graph the function defined above\n",
    "#The domain, x, can be defined using linspace(start, end, increments)\n",
    "x = np.linspace(.7, 6.7, 100)\n",
    "#Zero function (y=0) added so the x-axis is clearly visible\n",
    "zero = np.linspace(0 ,0 ,100)\n",
    "plt.plot(x, g(x))\n",
    "plt.plot(x, zero)\n",
    "plt.grid(True)\n",
    "plt.title('V_eff = 1/r^2 - 1/r = -0.15', fontsize=16)\n",
    "plt.xlabel('x', fontsize=14)\n",
    "plt.ylabel('f(x)', fontsize=14)\n",
    "plt.show()"
   ]
  },
  {
   "cell_type": "markdown",
   "metadata": {},
   "source": [
    "## This is the main loop of our program\n",
    "\n",
    "These next blocks execute the loop that:\n",
    "\n",
    "* computes the function values for x values near the root\n",
    "\n",
    "* if the product is \\+ then use the midpoint as the new lower value\n",
    "\n",
    "* if the product is \\- then use the midpoint as the new upper value\n",
    "\n",
    "* At each iteration print the midpoint and the error \n",
    "\n",
    "After 10 loops (more or less depending on required accuracy) print the final result. The error is generated at each iteration using the standard equation, (another way to run the loop is to specify a value for $\\epsilon$, say .00001, and the loop can be executed until that tolerance is met):"
   ]
  },
  {
   "cell_type": "markdown",
   "metadata": {},
   "source": [
    "$$\\begin{align*}\\epsilon &= \\text{error for each loop} \\\\\n",
    " n &= \\text{# of iterations} \\\\\n",
    " c_{n} &= n^{th}\\text{ midpoint} \\\\\n",
    " c &= \\text{actual value of root} \\\\\n",
    "\\epsilon &= \\left | c_{n} - c \\right | \\leq \\frac{x_{2} - x_{1}}{2^{n}}\n",
    "\\end{align*}$$"
   ]
  },
  {
   "cell_type": "markdown",
   "metadata": {},
   "source": [
    "### Root # 1\n",
    "\n",
    "From the graph, we can clearly see that the function crosses the x-axis at two points. One root looks to be around 1.25 so, we will use x=1.0 and x=1.5 as our surrounding values."
   ]
  },
  {
   "cell_type": "code",
   "execution_count": 4,
   "metadata": {},
   "outputs": [
    {
     "name": "stdout",
     "output_type": "stream",
     "text": [
      "1.25            : 0.125          \n",
      "1.125           : 0.03125        \n",
      "1.1875          : 0.0078125      \n",
      "1.21875         : 0.001953125    \n",
      "1.234375        : 0.00048828125  \n",
      "1.2265625       : 0.0001220703125\n",
      "1.22265625      : 3.0517578125e-05\n",
      "1.224609375     : 7.62939453125e-06\n",
      "1.2255859375    : 1.9073486328125e-06\n",
      "1.22509765625   : 4.76837158203125e-07\n",
      "\n",
      "A root for this function is x = 1.2250977\n",
      "The error after 10 iterations is 0.0000005\n"
     ]
    }
   ],
   "source": [
    "x_1 = 1.0 #Input a value less than the expected root\n",
    "x_2 = 1.5 #Input a value greater than the expected root\n",
    "          #(but less than the next root)\n",
    "counter = 0 #We also initialize a counter to keep track of the iterations\n",
    "for i in range(10):\n",
    "    x_mid = (x_1 + x_2) / 2\n",
    "    test = g(x_1) * g(x_mid)\n",
    "    if test > 0:\n",
    "        x_1 = x_mid\n",
    "    else:\n",
    "        x_2 = x_mid\n",
    "    counter += 1\n",
    "    error = abs((x_2 - x_1)) / 2 ** counter\n",
    "    print('{:<15} : {:<15}' .format(x_mid, error))\n",
    "root_1 = x_mid    \n",
    "print(\"\\nA root for this function is x = \" '%.7f' % x_mid)\n",
    "print(\"The error after {} iterations is {:.7f}\".format(counter, error))"
   ]
  },
  {
   "cell_type": "markdown",
   "metadata": {},
   "source": [
    "### Root # 2\n",
    "\n",
    "The same loop can be reused with a different range surrounding the next root. Since this root appears to be around x=5.5 we can set our starting values as x1=5.0 and x2=6.0. "
   ]
  },
  {
   "cell_type": "code",
   "execution_count": 5,
   "metadata": {
    "scrolled": false
   },
   "outputs": [
    {
     "name": "stdout",
     "output_type": "stream",
     "text": [
      "5.5             : 0.25           \n",
      "5.25            : 0.0625         \n",
      "5.375           : 0.015625       \n",
      "5.4375          : 0.00390625     \n",
      "5.46875         : 0.0009765625   \n",
      "5.453125        : 0.000244140625 \n",
      "5.4453125       : 6.103515625e-05\n",
      "5.44140625      : 1.52587890625e-05\n",
      "5.443359375     : 3.814697265625e-06\n",
      "5.4423828125    : 9.5367431640625e-07\n",
      "\n",
      "A root for this function is x = 5.4423828\n",
      "The error after 10 iterations is 0.0000010\n"
     ]
    }
   ],
   "source": [
    "x_1 = 5.0\n",
    "x_2 = 6.0\n",
    "counter = 0\n",
    "for i in range(10):\n",
    "    x_mid = (x_1 + x_2) / 2\n",
    "    test = g(x_1) * g(x_mid)\n",
    "    if test > 0:\n",
    "        x_1 = x_mid\n",
    "    else:\n",
    "        x_2 = x_mid\n",
    "    counter += 1\n",
    "    error = abs((x_2 - x_1)) / 2 ** counter\n",
    "    print('{:<15} : {:<15}' .format(x_mid, error))\n",
    "root_2 = x_mid   \n",
    "print(\"\\nA root for this function is x = \" '%.7f' % x_mid)\n",
    "print(\"The error after {} iterations is {:.7f}\".format(counter, error))"
   ]
  },
  {
   "cell_type": "markdown",
   "metadata": {},
   "source": [
    "## Conclusion\n",
    "We have demonstrated that a simple program can quickly return a decimal approximation of the roots of otherwise intractable functions. For our effective potential energy function, we were able to to visually identify the two roots of interest and refine the value to within .000001.\n",
    "\n",
    "If this is something we will be doing a lot of or for equations with multiple roots, we should probably define a function that takes an equation, graphs it and then allows the user to input two x values in order to find the root.\n",
    "\n",
    "**Once again, the roots of our function are:**\n",
    "\n",
    "1.22559  and 5.44238"
   ]
  },
  {
   "cell_type": "markdown",
   "metadata": {},
   "source": [
    "### Just for fun\n",
    "Just for fun, we run the first loop again, but this time for 25 iterations to see how it performs."
   ]
  },
  {
   "cell_type": "code",
   "execution_count": 6,
   "metadata": {},
   "outputs": [
    {
     "name": "stdout",
     "output_type": "stream",
     "text": [
      "1.25                 : 0.125               \n",
      "1.125                : 0.03125             \n",
      "1.1875               : 0.0078125           \n",
      "1.21875              : 0.001953125         \n",
      "1.234375             : 0.00048828125       \n",
      "1.2265625            : 0.0001220703125     \n",
      "1.22265625           : 3.0517578125e-05    \n",
      "1.224609375          : 7.62939453125e-06   \n",
      "1.2255859375         : 1.9073486328125e-06 \n",
      "1.22509765625        : 4.76837158203125e-07\n",
      "1.225341796875       : 1.1920928955078125e-07\n",
      "1.2252197265625      : 2.9802322387695312e-08\n",
      "1.22515869140625     : 7.450580596923828e-09\n",
      "1.225128173828125    : 1.862645149230957e-09\n",
      "1.2251434326171875   : 4.656612873077393e-10\n",
      "1.2251510620117188   : 1.1641532182693481e-10\n",
      "1.2251472473144531   : 2.9103830456733704e-11\n",
      "1.225149154663086    : 7.275957614183426e-12\n",
      "1.2251482009887695   : 1.8189894035458565e-12\n",
      "1.2251486778259277   : 4.547473508864641e-13\n",
      "1.2251484394073486   : 1.1368683772161603e-13\n",
      "1.225148320198059    : 2.842170943040401e-14\n",
      "1.2251482605934143   : 7.105427357601002e-15\n",
      "1.225148230791092    : 1.7763568394002505e-15\n",
      "1.2251482158899307   : 4.440892098500626e-16\n",
      "\n",
      "A root for this function is x = 1.2251482\n",
      "The error after 25 iterations is 0.0000000\n"
     ]
    }
   ],
   "source": [
    "x_1 = 1.0 \n",
    "x_2 = 1.5 \n",
    "counter = 0 \n",
    "for i in range(25):\n",
    "    x_mid = (x_1 + x_2) / 2\n",
    "    test = g(x_1) * g(x_mid)\n",
    "    if test > 0:\n",
    "        x_1 = x_mid\n",
    "    else:\n",
    "        x_2 = x_mid\n",
    "    counter += 1\n",
    "    error = abs((x_2 - x_1)) / 2 ** counter\n",
    "    print('{:<20} : {:<20}' .format(x_mid, error))\n",
    "root_1 = x_mid    \n",
    "print(\"\\nA root for this function is x = \" '%.7f' % x_mid)\n",
    "print(\"The error after {} iterations is {:.7f}\".format(counter, error))"
   ]
  },
  {
   "cell_type": "code",
   "execution_count": null,
   "metadata": {},
   "outputs": [],
   "source": []
  }
 ],
 "metadata": {
  "kernelspec": {
   "display_name": "Python 3",
   "language": "python",
   "name": "python3"
  },
  "language_info": {
   "codemirror_mode": {
    "name": "ipython",
    "version": 3
   },
   "file_extension": ".py",
   "mimetype": "text/x-python",
   "name": "python",
   "nbconvert_exporter": "python",
   "pygments_lexer": "ipython3",
   "version": "3.7.1"
  }
 },
 "nbformat": 4,
 "nbformat_minor": 2
}
